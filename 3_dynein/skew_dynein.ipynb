{
 "cells": [
  {
   "cell_type": "markdown",
   "id": "7a09121b",
   "metadata": {},
   "source": [
    "# Skew Analysis - dynein knockdown\n"
   ]
  },
  {
   "cell_type": "code",
   "execution_count": 1,
   "id": "adc2db34",
   "metadata": {},
   "outputs": [],
   "source": [
    "#Notebook Setup\n",
    "import sys\n",
    "sys.path.append('/Volumes/albright_postdoc/2022_AADAWM_v3/bin')\n",
    "import utils as ut # <----- your commmonly used functions go here!\n",
    "import plots as pt\n",
    "import pandas as pd\n",
    "import matplotlib as mpl\n",
    "import matplotlib.pyplot as plt\n",
    "import seaborn as sns\n",
    "import numpy as np\n",
    "\n",
    "%matplotlib inline"
   ]
  },
  {
   "cell_type": "code",
   "execution_count": 2,
   "id": "a384a793",
   "metadata": {},
   "outputs": [],
   "source": [
    "# read sleuth matrix \n",
    "df = pd.read_csv('/Volumes/albright_postdoc/dynein/bin/log_sleuth_matrix.csv').rename(columns={'Unnamed: 0': 'gene'}).set_index('gene')"
   ]
  },
  {
   "cell_type": "code",
   "execution_count": 3,
   "id": "7b28c40b",
   "metadata": {},
   "outputs": [
    {
     "data": {
      "text/html": [
       "<div>\n",
       "<style scoped>\n",
       "    .dataframe tbody tr th:only-of-type {\n",
       "        vertical-align: middle;\n",
       "    }\n",
       "\n",
       "    .dataframe tbody tr th {\n",
       "        vertical-align: top;\n",
       "    }\n",
       "\n",
       "    .dataframe thead th {\n",
       "        text-align: right;\n",
       "    }\n",
       "</style>\n",
       "<table border=\"1\" class=\"dataframe\">\n",
       "  <thead>\n",
       "    <tr style=\"text-align: right;\">\n",
       "      <th></th>\n",
       "      <th>con1A</th>\n",
       "      <th>con1P</th>\n",
       "      <th>con2A</th>\n",
       "      <th>con2P</th>\n",
       "      <th>con3A</th>\n",
       "      <th>con3P</th>\n",
       "      <th>con4A</th>\n",
       "      <th>con4P</th>\n",
       "      <th>con5A</th>\n",
       "      <th>con5P</th>\n",
       "      <th>...</th>\n",
       "      <th>G0511A</th>\n",
       "      <th>G0511P</th>\n",
       "      <th>G0512A</th>\n",
       "      <th>G0512P</th>\n",
       "      <th>G0513A</th>\n",
       "      <th>G0513P</th>\n",
       "      <th>G0514A</th>\n",
       "      <th>G0514P</th>\n",
       "      <th>G0515A</th>\n",
       "      <th>G0515P</th>\n",
       "    </tr>\n",
       "    <tr>\n",
       "      <th>gene</th>\n",
       "      <th></th>\n",
       "      <th></th>\n",
       "      <th></th>\n",
       "      <th></th>\n",
       "      <th></th>\n",
       "      <th></th>\n",
       "      <th></th>\n",
       "      <th></th>\n",
       "      <th></th>\n",
       "      <th></th>\n",
       "      <th></th>\n",
       "      <th></th>\n",
       "      <th></th>\n",
       "      <th></th>\n",
       "      <th></th>\n",
       "      <th></th>\n",
       "      <th></th>\n",
       "      <th></th>\n",
       "      <th></th>\n",
       "      <th></th>\n",
       "      <th></th>\n",
       "    </tr>\n",
       "  </thead>\n",
       "  <tbody>\n",
       "    <tr>\n",
       "      <th>SteCoe_1</th>\n",
       "      <td>3.991140</td>\n",
       "      <td>3.959623</td>\n",
       "      <td>4.246663</td>\n",
       "      <td>3.199033</td>\n",
       "      <td>3.965849</td>\n",
       "      <td>3.520252</td>\n",
       "      <td>4.363007</td>\n",
       "      <td>4.064801</td>\n",
       "      <td>4.219427</td>\n",
       "      <td>3.491350</td>\n",
       "      <td>...</td>\n",
       "      <td>4.644602</td>\n",
       "      <td>4.587983</td>\n",
       "      <td>4.334076</td>\n",
       "      <td>4.127681</td>\n",
       "      <td>4.541418</td>\n",
       "      <td>4.499281</td>\n",
       "      <td>4.485177</td>\n",
       "      <td>4.427199</td>\n",
       "      <td>4.625356</td>\n",
       "      <td>4.321098</td>\n",
       "    </tr>\n",
       "    <tr>\n",
       "      <th>SteCoe_10</th>\n",
       "      <td>3.465882</td>\n",
       "      <td>3.429909</td>\n",
       "      <td>3.264884</td>\n",
       "      <td>3.020101</td>\n",
       "      <td>3.583933</td>\n",
       "      <td>3.386498</td>\n",
       "      <td>2.993543</td>\n",
       "      <td>2.922432</td>\n",
       "      <td>3.542479</td>\n",
       "      <td>3.535558</td>\n",
       "      <td>...</td>\n",
       "      <td>3.621357</td>\n",
       "      <td>3.584616</td>\n",
       "      <td>3.400985</td>\n",
       "      <td>3.346820</td>\n",
       "      <td>3.686619</td>\n",
       "      <td>3.618164</td>\n",
       "      <td>3.413853</td>\n",
       "      <td>3.596177</td>\n",
       "      <td>3.243818</td>\n",
       "      <td>3.423634</td>\n",
       "    </tr>\n",
       "    <tr>\n",
       "      <th>SteCoe_100</th>\n",
       "      <td>1.154422</td>\n",
       "      <td>1.113461</td>\n",
       "      <td>1.146175</td>\n",
       "      <td>1.344786</td>\n",
       "      <td>1.064603</td>\n",
       "      <td>1.092473</td>\n",
       "      <td>1.225276</td>\n",
       "      <td>1.183206</td>\n",
       "      <td>1.264532</td>\n",
       "      <td>0.855056</td>\n",
       "      <td>...</td>\n",
       "      <td>0.825974</td>\n",
       "      <td>0.956856</td>\n",
       "      <td>0.901129</td>\n",
       "      <td>0.886257</td>\n",
       "      <td>0.977400</td>\n",
       "      <td>0.975286</td>\n",
       "      <td>0.601184</td>\n",
       "      <td>0.860468</td>\n",
       "      <td>0.717263</td>\n",
       "      <td>0.892287</td>\n",
       "    </tr>\n",
       "    <tr>\n",
       "      <th>SteCoe_1000</th>\n",
       "      <td>4.896607</td>\n",
       "      <td>4.748374</td>\n",
       "      <td>3.865083</td>\n",
       "      <td>3.485406</td>\n",
       "      <td>4.381386</td>\n",
       "      <td>3.905930</td>\n",
       "      <td>4.396975</td>\n",
       "      <td>4.449070</td>\n",
       "      <td>4.305953</td>\n",
       "      <td>4.405938</td>\n",
       "      <td>...</td>\n",
       "      <td>4.670462</td>\n",
       "      <td>4.439605</td>\n",
       "      <td>4.623808</td>\n",
       "      <td>4.352125</td>\n",
       "      <td>4.610823</td>\n",
       "      <td>4.637300</td>\n",
       "      <td>5.061549</td>\n",
       "      <td>4.576680</td>\n",
       "      <td>5.007063</td>\n",
       "      <td>4.707926</td>\n",
       "    </tr>\n",
       "    <tr>\n",
       "      <th>SteCoe_10000</th>\n",
       "      <td>0.333962</td>\n",
       "      <td>0.180894</td>\n",
       "      <td>0.089370</td>\n",
       "      <td>0.000000</td>\n",
       "      <td>0.050283</td>\n",
       "      <td>0.177509</td>\n",
       "      <td>0.209944</td>\n",
       "      <td>0.315082</td>\n",
       "      <td>0.249387</td>\n",
       "      <td>0.099758</td>\n",
       "      <td>...</td>\n",
       "      <td>0.189861</td>\n",
       "      <td>0.148780</td>\n",
       "      <td>0.101657</td>\n",
       "      <td>0.149968</td>\n",
       "      <td>0.035615</td>\n",
       "      <td>0.111924</td>\n",
       "      <td>0.148353</td>\n",
       "      <td>0.255819</td>\n",
       "      <td>0.042457</td>\n",
       "      <td>0.146301</td>\n",
       "    </tr>\n",
       "    <tr>\n",
       "      <th>...</th>\n",
       "      <td>...</td>\n",
       "      <td>...</td>\n",
       "      <td>...</td>\n",
       "      <td>...</td>\n",
       "      <td>...</td>\n",
       "      <td>...</td>\n",
       "      <td>...</td>\n",
       "      <td>...</td>\n",
       "      <td>...</td>\n",
       "      <td>...</td>\n",
       "      <td>...</td>\n",
       "      <td>...</td>\n",
       "      <td>...</td>\n",
       "      <td>...</td>\n",
       "      <td>...</td>\n",
       "      <td>...</td>\n",
       "      <td>...</td>\n",
       "      <td>...</td>\n",
       "      <td>...</td>\n",
       "      <td>...</td>\n",
       "      <td>...</td>\n",
       "    </tr>\n",
       "    <tr>\n",
       "      <th>SteCoe_9995</th>\n",
       "      <td>3.137509</td>\n",
       "      <td>3.128075</td>\n",
       "      <td>3.259151</td>\n",
       "      <td>3.319851</td>\n",
       "      <td>3.410596</td>\n",
       "      <td>3.545623</td>\n",
       "      <td>2.736690</td>\n",
       "      <td>3.141276</td>\n",
       "      <td>3.076125</td>\n",
       "      <td>3.317294</td>\n",
       "      <td>...</td>\n",
       "      <td>3.273289</td>\n",
       "      <td>2.788760</td>\n",
       "      <td>3.175521</td>\n",
       "      <td>3.275907</td>\n",
       "      <td>3.483019</td>\n",
       "      <td>3.451837</td>\n",
       "      <td>3.749764</td>\n",
       "      <td>3.108530</td>\n",
       "      <td>3.590973</td>\n",
       "      <td>2.990229</td>\n",
       "    </tr>\n",
       "    <tr>\n",
       "      <th>SteCoe_9996</th>\n",
       "      <td>0.411800</td>\n",
       "      <td>0.375408</td>\n",
       "      <td>0.466534</td>\n",
       "      <td>0.820737</td>\n",
       "      <td>0.405502</td>\n",
       "      <td>0.666817</td>\n",
       "      <td>0.283379</td>\n",
       "      <td>0.428397</td>\n",
       "      <td>0.521654</td>\n",
       "      <td>0.480391</td>\n",
       "      <td>...</td>\n",
       "      <td>0.461453</td>\n",
       "      <td>0.588679</td>\n",
       "      <td>0.424670</td>\n",
       "      <td>0.524145</td>\n",
       "      <td>0.526261</td>\n",
       "      <td>0.565372</td>\n",
       "      <td>0.242563</td>\n",
       "      <td>0.589508</td>\n",
       "      <td>0.388646</td>\n",
       "      <td>0.506210</td>\n",
       "    </tr>\n",
       "    <tr>\n",
       "      <th>SteCoe_9997</th>\n",
       "      <td>0.000000</td>\n",
       "      <td>0.000000</td>\n",
       "      <td>0.000000</td>\n",
       "      <td>0.000000</td>\n",
       "      <td>0.000000</td>\n",
       "      <td>0.248459</td>\n",
       "      <td>0.054679</td>\n",
       "      <td>0.000000</td>\n",
       "      <td>0.050005</td>\n",
       "      <td>0.000000</td>\n",
       "      <td>...</td>\n",
       "      <td>0.000000</td>\n",
       "      <td>0.083214</td>\n",
       "      <td>0.074290</td>\n",
       "      <td>0.000000</td>\n",
       "      <td>0.000000</td>\n",
       "      <td>0.000000</td>\n",
       "      <td>0.000000</td>\n",
       "      <td>0.000000</td>\n",
       "      <td>0.000000</td>\n",
       "      <td>0.000000</td>\n",
       "    </tr>\n",
       "    <tr>\n",
       "      <th>SteCoe_9998</th>\n",
       "      <td>4.961840</td>\n",
       "      <td>5.121180</td>\n",
       "      <td>5.225925</td>\n",
       "      <td>4.716797</td>\n",
       "      <td>5.012398</td>\n",
       "      <td>4.993431</td>\n",
       "      <td>4.320111</td>\n",
       "      <td>4.913291</td>\n",
       "      <td>4.135142</td>\n",
       "      <td>4.724665</td>\n",
       "      <td>...</td>\n",
       "      <td>4.617787</td>\n",
       "      <td>4.603146</td>\n",
       "      <td>4.403786</td>\n",
       "      <td>4.468512</td>\n",
       "      <td>4.464584</td>\n",
       "      <td>4.478715</td>\n",
       "      <td>4.875760</td>\n",
       "      <td>3.991407</td>\n",
       "      <td>4.789493</td>\n",
       "      <td>4.515128</td>\n",
       "    </tr>\n",
       "    <tr>\n",
       "      <th>SteCoe_9999</th>\n",
       "      <td>2.386775</td>\n",
       "      <td>2.533963</td>\n",
       "      <td>2.177633</td>\n",
       "      <td>2.214489</td>\n",
       "      <td>2.447023</td>\n",
       "      <td>2.548290</td>\n",
       "      <td>2.016767</td>\n",
       "      <td>2.401551</td>\n",
       "      <td>2.275328</td>\n",
       "      <td>2.408032</td>\n",
       "      <td>...</td>\n",
       "      <td>2.281261</td>\n",
       "      <td>2.121021</td>\n",
       "      <td>1.907711</td>\n",
       "      <td>2.289139</td>\n",
       "      <td>1.955156</td>\n",
       "      <td>2.295424</td>\n",
       "      <td>2.109466</td>\n",
       "      <td>2.142299</td>\n",
       "      <td>2.447296</td>\n",
       "      <td>2.338674</td>\n",
       "    </tr>\n",
       "  </tbody>\n",
       "</table>\n",
       "<p>34494 rows × 30 columns</p>\n",
       "</div>"
      ],
      "text/plain": [
       "                 con1A     con1P     con2A     con2P     con3A     con3P  \\\n",
       "gene                                                                       \n",
       "SteCoe_1      3.991140  3.959623  4.246663  3.199033  3.965849  3.520252   \n",
       "SteCoe_10     3.465882  3.429909  3.264884  3.020101  3.583933  3.386498   \n",
       "SteCoe_100    1.154422  1.113461  1.146175  1.344786  1.064603  1.092473   \n",
       "SteCoe_1000   4.896607  4.748374  3.865083  3.485406  4.381386  3.905930   \n",
       "SteCoe_10000  0.333962  0.180894  0.089370  0.000000  0.050283  0.177509   \n",
       "...                ...       ...       ...       ...       ...       ...   \n",
       "SteCoe_9995   3.137509  3.128075  3.259151  3.319851  3.410596  3.545623   \n",
       "SteCoe_9996   0.411800  0.375408  0.466534  0.820737  0.405502  0.666817   \n",
       "SteCoe_9997   0.000000  0.000000  0.000000  0.000000  0.000000  0.248459   \n",
       "SteCoe_9998   4.961840  5.121180  5.225925  4.716797  5.012398  4.993431   \n",
       "SteCoe_9999   2.386775  2.533963  2.177633  2.214489  2.447023  2.548290   \n",
       "\n",
       "                 con4A     con4P     con5A     con5P  ...    G0511A    G0511P  \\\n",
       "gene                                                  ...                       \n",
       "SteCoe_1      4.363007  4.064801  4.219427  3.491350  ...  4.644602  4.587983   \n",
       "SteCoe_10     2.993543  2.922432  3.542479  3.535558  ...  3.621357  3.584616   \n",
       "SteCoe_100    1.225276  1.183206  1.264532  0.855056  ...  0.825974  0.956856   \n",
       "SteCoe_1000   4.396975  4.449070  4.305953  4.405938  ...  4.670462  4.439605   \n",
       "SteCoe_10000  0.209944  0.315082  0.249387  0.099758  ...  0.189861  0.148780   \n",
       "...                ...       ...       ...       ...  ...       ...       ...   \n",
       "SteCoe_9995   2.736690  3.141276  3.076125  3.317294  ...  3.273289  2.788760   \n",
       "SteCoe_9996   0.283379  0.428397  0.521654  0.480391  ...  0.461453  0.588679   \n",
       "SteCoe_9997   0.054679  0.000000  0.050005  0.000000  ...  0.000000  0.083214   \n",
       "SteCoe_9998   4.320111  4.913291  4.135142  4.724665  ...  4.617787  4.603146   \n",
       "SteCoe_9999   2.016767  2.401551  2.275328  2.408032  ...  2.281261  2.121021   \n",
       "\n",
       "                G0512A    G0512P    G0513A    G0513P    G0514A    G0514P  \\\n",
       "gene                                                                       \n",
       "SteCoe_1      4.334076  4.127681  4.541418  4.499281  4.485177  4.427199   \n",
       "SteCoe_10     3.400985  3.346820  3.686619  3.618164  3.413853  3.596177   \n",
       "SteCoe_100    0.901129  0.886257  0.977400  0.975286  0.601184  0.860468   \n",
       "SteCoe_1000   4.623808  4.352125  4.610823  4.637300  5.061549  4.576680   \n",
       "SteCoe_10000  0.101657  0.149968  0.035615  0.111924  0.148353  0.255819   \n",
       "...                ...       ...       ...       ...       ...       ...   \n",
       "SteCoe_9995   3.175521  3.275907  3.483019  3.451837  3.749764  3.108530   \n",
       "SteCoe_9996   0.424670  0.524145  0.526261  0.565372  0.242563  0.589508   \n",
       "SteCoe_9997   0.074290  0.000000  0.000000  0.000000  0.000000  0.000000   \n",
       "SteCoe_9998   4.403786  4.468512  4.464584  4.478715  4.875760  3.991407   \n",
       "SteCoe_9999   1.907711  2.289139  1.955156  2.295424  2.109466  2.142299   \n",
       "\n",
       "                G0515A    G0515P  \n",
       "gene                              \n",
       "SteCoe_1      4.625356  4.321098  \n",
       "SteCoe_10     3.243818  3.423634  \n",
       "SteCoe_100    0.717263  0.892287  \n",
       "SteCoe_1000   5.007063  4.707926  \n",
       "SteCoe_10000  0.042457  0.146301  \n",
       "...                ...       ...  \n",
       "SteCoe_9995   3.590973  2.990229  \n",
       "SteCoe_9996   0.388646  0.506210  \n",
       "SteCoe_9997   0.000000  0.000000  \n",
       "SteCoe_9998   4.789493  4.515128  \n",
       "SteCoe_9999   2.447296  2.338674  \n",
       "\n",
       "[34494 rows x 30 columns]"
      ]
     },
     "execution_count": 3,
     "metadata": {},
     "output_type": "execute_result"
    }
   ],
   "source": [
    "df"
   ]
  },
  {
   "cell_type": "markdown",
   "id": "d644644c",
   "metadata": {},
   "source": [
    "## Quality Control - PCA \n",
    "\n",
    "Calculating the PC space here on the control only"
   ]
  },
  {
   "cell_type": "code",
   "execution_count": 4,
   "id": "69e09473",
   "metadata": {},
   "outputs": [
    {
     "data": {
      "text/plain": [
       "<AxesSubplot:xlabel='PC1, 3314.84%', ylabel='PC2, 2013.24%'>"
      ]
     },
     "execution_count": 4,
     "metadata": {},
     "output_type": "execute_result"
    },
    {
     "data": {
      "image/png": "[encoded data removed]",
      "text/plain": [
       "<Figure size 432x288 with 1 Axes>"
      ]
     },
     "metadata": {
      "needs_background": "light"
     },
     "output_type": "display_data"
    }
   ],
   "source": [
    "# compute pca:\n",
    "control_cols = df.columns[df.columns.str.contains('con')]\n",
    "scaler, pca = ut.get_pc(df[control_cols], n_pcs=2, which='pca')\n",
    "pc = ut.get_pc(df[control_cols], n_pcs=2, which='pc') \n",
    "explained_variance = pca.explained_variance_ratio_ * 100  # convert to percentage\n",
    "\n",
    "pt.plot_pc(pc, explained_variance, colors = ['#70B4D6'])\n",
    "\n",
    "#plt.savefig('PCA_control_dyn.png', bbox_inches='tight', dpi = 300)"
   ]
  },
  {
   "cell_type": "code",
   "execution_count": 5,
   "id": "b408400c",
   "metadata": {},
   "outputs": [
    {
     "data": {
      "image/png": "[encoded data removed]",
      "text/plain": [
       "<Figure size 432x288 with 1 Axes>"
      ]
     },
     "metadata": {
      "needs_background": "light"
     },
     "output_type": "display_data"
    }
   ],
   "source": [
    "# same plot, samples labeled \n",
    "pt.plot_pc(pc, explained_variance, colors = ['#70B4D6'])\n",
    "for sample in pc.index:\n",
    "    s = pc.reindex([sample])\n",
    "    plt.annotate(sample, (s.PC1, s.PC2))\n",
    "\n",
    "\n",
    "#plt.savefig('PCA_control.png', bbox_inches='tight', dpi = 300)"
   ]
  },
  {
   "cell_type": "markdown",
   "id": "3028540f",
   "metadata": {},
   "source": [
    "Note: PC1 resembles the anterior-posterior axis overall trending more A on the left, and P on the right. By cell, the anterior is always left of its posterior pair. \n",
    "\n",
    "Cell-to-cell variation is most likely a result of variation in where the cell is cut."
   ]
  },
  {
   "cell_type": "markdown",
   "id": "6415f2c5",
   "metadata": {},
   "source": [
    "Transform the rest of the dataset:"
   ]
  },
  {
   "cell_type": "code",
   "execution_count": 6,
   "id": "e6ef254d",
   "metadata": {},
   "outputs": [
    {
     "data": {
      "image/png": "[encoded data removed]",
      "text/plain": [
       "<Figure size 432x288 with 1 Axes>"
      ]
     },
     "metadata": {
      "needs_background": "light"
     },
     "output_type": "display_data"
    }
   ],
   "source": [
    "coords2 = pca.transform(scaler.transform(df.T))  # Transform the entire dataset using control PC space from above\n",
    "\n",
    "# get coordinates into a nice dataframe\n",
    "pc = pd.DataFrame(coords2, index=df.columns, columns=['PC1', 'PC2'])\n",
    "\n",
    "# annotate metadata:\n",
    "pc['treatment'] = pd.Series(pc.index).astype(str).str[:3].values\n",
    "pc['polarity'] = pd.Series(pc.index).astype(str).str[-1].values\n",
    "sns.boxplot(x='treatment', y='PC1', hue='polarity', data=pc)\n",
    "legend = plt.legend(loc='upper right', bbox_to_anchor=(1.25, 1))\n",
    "legend.set_title(\"polarity\")\n",
    "\n",
    "\n",
    "#plt.savefig('PC1_dyn.png', bbox_inches='tight', dpi = 300)"
   ]
  },
  {
   "cell_type": "code",
   "execution_count": 7,
   "id": "3bd48425",
   "metadata": {},
   "outputs": [],
   "source": [
    "colors = ['#70B4D6', '#BBAC5E','#CC6677']"
   ]
  },
  {
   "cell_type": "code",
   "execution_count": 8,
   "id": "14dc8033",
   "metadata": {},
   "outputs": [
    {
     "data": {
      "text/plain": [
       "<AxesSubplot:xlabel='PC1', ylabel='PC2'>"
      ]
     },
     "execution_count": 8,
     "metadata": {},
     "output_type": "execute_result"
    },
    {
     "data": {
      "image/png": "[encoded data removed]",
      "text/plain": [
       "<Figure size 432x288 with 1 Axes>"
      ]
     },
     "metadata": {
      "needs_background": "light"
     },
     "output_type": "display_data"
    }
   ],
   "source": [
    "# PCA all samples\n",
    "pt.plot_pc(pc, colors = colors)\n",
    "#plt.savefig('PCA_dyn.png', bbox_inches='tight', dpi = 300)"
   ]
  },
  {
   "cell_type": "code",
   "execution_count": 9,
   "id": "82b3bd6a",
   "metadata": {},
   "outputs": [
    {
     "data": {
      "image/png": "[encoded data removed]",
      "text/plain": [
       "<Figure size 432x288 with 1 Axes>"
      ]
     },
     "metadata": {
      "needs_background": "light"
     },
     "output_type": "display_data"
    }
   ],
   "source": [
    "# PCA, samples labeled \n",
    "pt.plot_pc(pc, explained_variance, colors=colors)\n",
    "for sample in pc.index:\n",
    "    s = pc.reindex([sample])\n",
    "    plt.annotate(sample, (s.PC1, s.PC2))"
   ]
  },
  {
   "cell_type": "markdown",
   "id": "918a1fca",
   "metadata": {},
   "source": [
    "## Data wrangling and math "
   ]
  },
  {
   "cell_type": "code",
   "execution_count": 10,
   "id": "40ecea29",
   "metadata": {},
   "outputs": [
    {
     "data": {
      "text/html": [
       "<div>\n",
       "<style scoped>\n",
       "    .dataframe tbody tr th:only-of-type {\n",
       "        vertical-align: middle;\n",
       "    }\n",
       "\n",
       "    .dataframe tbody tr th {\n",
       "        vertical-align: top;\n",
       "    }\n",
       "\n",
       "    .dataframe thead th {\n",
       "        text-align: right;\n",
       "    }\n",
       "</style>\n",
       "<table border=\"1\" class=\"dataframe\">\n",
       "  <thead>\n",
       "    <tr style=\"text-align: right;\">\n",
       "      <th></th>\n",
       "      <th></th>\n",
       "      <th>Sample</th>\n",
       "      <th>log1TPM</th>\n",
       "      <th>treatment</th>\n",
       "      <th>Polarity</th>\n",
       "      <th>sample_mean_log1TPM</th>\n",
       "      <th>log1RPM</th>\n",
       "      <th>log1RPM_posterior</th>\n",
       "      <th>sample_mean_log1TPM_posterior</th>\n",
       "      <th>Skew</th>\n",
       "    </tr>\n",
       "    <tr>\n",
       "      <th>gene</th>\n",
       "      <th>Cell_ID</th>\n",
       "      <th></th>\n",
       "      <th></th>\n",
       "      <th></th>\n",
       "      <th></th>\n",
       "      <th></th>\n",
       "      <th></th>\n",
       "      <th></th>\n",
       "      <th></th>\n",
       "      <th></th>\n",
       "    </tr>\n",
       "  </thead>\n",
       "  <tbody>\n",
       "    <tr>\n",
       "      <th>SteCoe_1</th>\n",
       "      <th>con1</th>\n",
       "      <td>con1A</td>\n",
       "      <td>3.991140</td>\n",
       "      <td>con</td>\n",
       "      <td>A</td>\n",
       "      <td>1.568282</td>\n",
       "      <td>5.559422</td>\n",
       "      <td>5.529318</td>\n",
       "      <td>1.569695</td>\n",
       "      <td>0.002715</td>\n",
       "    </tr>\n",
       "    <tr>\n",
       "      <th>SteCoe_10</th>\n",
       "      <th>con1</th>\n",
       "      <td>con1A</td>\n",
       "      <td>3.465882</td>\n",
       "      <td>con</td>\n",
       "      <td>A</td>\n",
       "      <td>1.568282</td>\n",
       "      <td>5.034164</td>\n",
       "      <td>4.999604</td>\n",
       "      <td>1.569695</td>\n",
       "      <td>0.003444</td>\n",
       "    </tr>\n",
       "    <tr>\n",
       "      <th>SteCoe_100</th>\n",
       "      <th>con1</th>\n",
       "      <td>con1A</td>\n",
       "      <td>1.154422</td>\n",
       "      <td>con</td>\n",
       "      <td>A</td>\n",
       "      <td>1.568282</td>\n",
       "      <td>2.722704</td>\n",
       "      <td>2.683156</td>\n",
       "      <td>1.569695</td>\n",
       "      <td>0.007316</td>\n",
       "    </tr>\n",
       "    <tr>\n",
       "      <th>SteCoe_1000</th>\n",
       "      <th>con1</th>\n",
       "      <td>con1A</td>\n",
       "      <td>4.896607</td>\n",
       "      <td>con</td>\n",
       "      <td>A</td>\n",
       "      <td>1.568282</td>\n",
       "      <td>6.464889</td>\n",
       "      <td>6.318069</td>\n",
       "      <td>1.569695</td>\n",
       "      <td>0.011486</td>\n",
       "    </tr>\n",
       "    <tr>\n",
       "      <th>SteCoe_10000</th>\n",
       "      <th>con1</th>\n",
       "      <td>con1A</td>\n",
       "      <td>0.333962</td>\n",
       "      <td>con</td>\n",
       "      <td>A</td>\n",
       "      <td>1.568282</td>\n",
       "      <td>1.902244</td>\n",
       "      <td>1.750590</td>\n",
       "      <td>1.569695</td>\n",
       "      <td>0.041517</td>\n",
       "    </tr>\n",
       "  </tbody>\n",
       "</table>\n",
       "</div>"
      ],
      "text/plain": [
       "                     Sample   log1TPM treatment Polarity  sample_mean_log1TPM  \\\n",
       "gene         Cell_ID                                                            \n",
       "SteCoe_1     con1     con1A  3.991140       con        A             1.568282   \n",
       "SteCoe_10    con1     con1A  3.465882       con        A             1.568282   \n",
       "SteCoe_100   con1     con1A  1.154422       con        A             1.568282   \n",
       "SteCoe_1000  con1     con1A  4.896607       con        A             1.568282   \n",
       "SteCoe_10000 con1     con1A  0.333962       con        A             1.568282   \n",
       "\n",
       "                       log1RPM  log1RPM_posterior  \\\n",
       "gene         Cell_ID                                \n",
       "SteCoe_1     con1     5.559422           5.529318   \n",
       "SteCoe_10    con1     5.034164           4.999604   \n",
       "SteCoe_100   con1     2.722704           2.683156   \n",
       "SteCoe_1000  con1     6.464889           6.318069   \n",
       "SteCoe_10000 con1     1.902244           1.750590   \n",
       "\n",
       "                      sample_mean_log1TPM_posterior      Skew  \n",
       "gene         Cell_ID                                           \n",
       "SteCoe_1     con1                          1.569695  0.002715  \n",
       "SteCoe_10    con1                          1.569695  0.003444  \n",
       "SteCoe_100   con1                          1.569695  0.007316  \n",
       "SteCoe_1000  con1                          1.569695  0.011486  \n",
       "SteCoe_10000 con1                          1.569695  0.041517  "
      ]
     },
     "execution_count": 10,
     "metadata": {},
     "output_type": "execute_result"
    }
   ],
   "source": [
    "stack = ut.tidy_up(df)\n",
    "stack.head()"
   ]
  },
  {
   "cell_type": "code",
   "execution_count": 11,
   "id": "be2a0c0d",
   "metadata": {},
   "outputs": [
    {
     "name": "stderr",
     "output_type": "stream",
     "text": [
      "/Users/aralbright/opt/anaconda3/envs/scoe-rna/lib/python3.6/site-packages/seaborn/distributions.py:2619: FutureWarning: `distplot` is a deprecated function and will be removed in a future version. Please adapt your code to use either `displot` (a figure-level function with similar flexibility) or `histplot` (an axes-level function for histograms).\n",
      "  warnings.warn(msg, FutureWarning)\n",
      "/Users/aralbright/opt/anaconda3/envs/scoe-rna/lib/python3.6/site-packages/seaborn/distributions.py:2619: FutureWarning: `distplot` is a deprecated function and will be removed in a future version. Please adapt your code to use either `displot` (a figure-level function with similar flexibility) or `histplot` (an axes-level function for histograms).\n",
      "  warnings.warn(msg, FutureWarning)\n",
      "/Users/aralbright/opt/anaconda3/envs/scoe-rna/lib/python3.6/site-packages/seaborn/distributions.py:2619: FutureWarning: `distplot` is a deprecated function and will be removed in a future version. Please adapt your code to use either `displot` (a figure-level function with similar flexibility) or `histplot` (an axes-level function for histograms).\n",
      "  warnings.warn(msg, FutureWarning)\n"
     ]
    },
    {
     "data": {
      "text/plain": [
       "<matplotlib.legend.Legend at 0x7f8c8b424940>"
      ]
     },
     "execution_count": 11,
     "metadata": {},
     "output_type": "execute_result"
    },
    {
     "data": {
      "image/png": "[encoded data removed]",
      "text/plain": [
       "<Figure size 432x288 with 1 Axes>"
      ]
     },
     "metadata": {
      "needs_background": "light"
     },
     "output_type": "display_data"
    }
   ],
   "source": [
    "# visualize a histogram of mean skews.\n",
    "mean_skews = ut.get_mean_skew(stack)\n",
    "\n",
    "sns.distplot(mean_skews[mean_skews.treatment == 'con'].Skew, color = '#70B4D6', label = 'con')\n",
    "sns.distplot(mean_skews[mean_skews.treatment == 'G04'].Skew, color = '#BBAC5E', label = 'G04')\n",
    "sns.distplot(mean_skews[mean_skews.treatment == 'G05'].Skew, color = '#CC6677', label = 'G05')\n",
    "plt.legend()\n",
    "\n",
    "#plt.savefig('skew_dist_dyn.png', bbox_inches='tight', dpi = 300)"
   ]
  },
  {
   "cell_type": "code",
   "execution_count": 12,
   "id": "2e09f07d",
   "metadata": {},
   "outputs": [
    {
     "data": {
      "text/plain": [
       "(0.0, 0.1)"
      ]
     },
     "execution_count": 12,
     "metadata": {},
     "output_type": "execute_result"
    },
    {
     "data": {
      "image/png": "[encoded data removed]",
      "text/plain": [
       "<Figure size 432x288 with 1 Axes>"
      ]
     },
     "metadata": {
      "needs_background": "light"
     },
     "output_type": "display_data"
    }
   ],
   "source": [
    "abs_cond = lambda x: np.abs(mean_skews[mean_skews.treatment == x].Skew)\n",
    "plt.plot(*ut.ecdf(abs_cond('con')), color = '#70B4D6', label = 'con')\n",
    "plt.plot(*ut.ecdf(abs_cond('G04')), color = '#BBAC5E', label = 'G04')\n",
    "plt.plot(*ut.ecdf(abs_cond('G05')), color = '#CC6677', label = 'G05')\n",
    "plt.legend()\n",
    "plt.xlim(0, .1)\n",
    "\n"
   ]
  },
  {
   "cell_type": "code",
   "execution_count": 13,
   "id": "019a678a",
   "metadata": {},
   "outputs": [
    {
     "name": "stdout",
     "output_type": "stream",
     "text": [
      "26281\n"
     ]
    },
    {
     "name": "stderr",
     "output_type": "stream",
     "text": [
      "/Users/aralbright/opt/anaconda3/envs/scoe-rna/lib/python3.6/site-packages/seaborn/distributions.py:2619: FutureWarning: `distplot` is a deprecated function and will be removed in a future version. Please adapt your code to use either `displot` (a figure-level function with similar flexibility) or `histplot` (an axes-level function for histograms).\n",
      "  warnings.warn(msg, FutureWarning)\n",
      "/Users/aralbright/opt/anaconda3/envs/scoe-rna/lib/python3.6/site-packages/seaborn/distributions.py:2619: FutureWarning: `distplot` is a deprecated function and will be removed in a future version. Please adapt your code to use either `displot` (a figure-level function with similar flexibility) or `histplot` (an axes-level function for histograms).\n",
      "  warnings.warn(msg, FutureWarning)\n"
     ]
    },
    {
     "data": {
      "text/plain": [
       "<AxesSubplot:ylabel='Density'>"
      ]
     },
     "execution_count": 13,
     "metadata": {},
     "output_type": "execute_result"
    },
    {
     "data": {
      "image/png": "[encoded data removed]",
      "text/plain": [
       "<Figure size 432x288 with 1 Axes>"
      ]
     },
     "metadata": {
      "needs_background": "light"
     },
     "output_type": "display_data"
    }
   ],
   "source": [
    "# make sure RPMs are within a reasonable range:\n",
    "mean_rpm = stack.groupby('gene')[['log1RPM_posterior', 'log1RPM']].mean().mean(axis=1)\n",
    "wanted = mean_rpm[mean_rpm.between(2, 10)].index\n",
    "print(len(wanted))\n",
    "sns.distplot(mean_rpm)\n",
    "sns.distplot(mean_rpm[mean_rpm.between(2, 10)])"
   ]
  },
  {
   "cell_type": "code",
   "execution_count": 14,
   "id": "2ec74f79",
   "metadata": {},
   "outputs": [
    {
     "data": {
      "text/html": [
       "<div>\n",
       "<style scoped>\n",
       "    .dataframe tbody tr th:only-of-type {\n",
       "        vertical-align: middle;\n",
       "    }\n",
       "\n",
       "    .dataframe tbody tr th {\n",
       "        vertical-align: top;\n",
       "    }\n",
       "\n",
       "    .dataframe thead th {\n",
       "        text-align: right;\n",
       "    }\n",
       "</style>\n",
       "<table border=\"1\" class=\"dataframe\">\n",
       "  <thead>\n",
       "    <tr style=\"text-align: right;\">\n",
       "      <th></th>\n",
       "      <th>gene</th>\n",
       "      <th>Cell_ID</th>\n",
       "      <th>Sample</th>\n",
       "      <th>log1TPM</th>\n",
       "      <th>treatment</th>\n",
       "      <th>Polarity</th>\n",
       "      <th>sample_mean_log1TPM</th>\n",
       "      <th>log1RPM</th>\n",
       "      <th>log1RPM_posterior</th>\n",
       "      <th>sample_mean_log1TPM_posterior</th>\n",
       "      <th>Skew</th>\n",
       "      <th>coeff</th>\n",
       "    </tr>\n",
       "  </thead>\n",
       "  <tbody>\n",
       "    <tr>\n",
       "      <th>172470</th>\n",
       "      <td>SteCoe_1</td>\n",
       "      <td>G0410</td>\n",
       "      <td>G0410A</td>\n",
       "      <td>4.637975</td>\n",
       "      <td>G04</td>\n",
       "      <td>A</td>\n",
       "      <td>1.564265</td>\n",
       "      <td>6.202239</td>\n",
       "      <td>5.988895</td>\n",
       "      <td>1.558626</td>\n",
       "      <td>0.017500</td>\n",
       "      <td>1.168904</td>\n",
       "    </tr>\n",
       "    <tr>\n",
       "      <th>206964</th>\n",
       "      <td>SteCoe_1</td>\n",
       "      <td>G046</td>\n",
       "      <td>G046A</td>\n",
       "      <td>4.534673</td>\n",
       "      <td>G04</td>\n",
       "      <td>A</td>\n",
       "      <td>1.575318</td>\n",
       "      <td>6.109991</td>\n",
       "      <td>5.825334</td>\n",
       "      <td>1.588103</td>\n",
       "      <td>0.023850</td>\n",
       "      <td>1.168904</td>\n",
       "    </tr>\n",
       "    <tr>\n",
       "      <th>241458</th>\n",
       "      <td>SteCoe_1</td>\n",
       "      <td>G047</td>\n",
       "      <td>G047A</td>\n",
       "      <td>4.186466</td>\n",
       "      <td>G04</td>\n",
       "      <td>A</td>\n",
       "      <td>1.576354</td>\n",
       "      <td>5.762820</td>\n",
       "      <td>5.610255</td>\n",
       "      <td>1.588309</td>\n",
       "      <td>0.013415</td>\n",
       "      <td>1.168904</td>\n",
       "    </tr>\n",
       "    <tr>\n",
       "      <th>275952</th>\n",
       "      <td>SteCoe_1</td>\n",
       "      <td>G048</td>\n",
       "      <td>G048A</td>\n",
       "      <td>4.347528</td>\n",
       "      <td>G04</td>\n",
       "      <td>A</td>\n",
       "      <td>1.566884</td>\n",
       "      <td>5.914413</td>\n",
       "      <td>6.012707</td>\n",
       "      <td>1.561393</td>\n",
       "      <td>-0.008241</td>\n",
       "      <td>1.168904</td>\n",
       "    </tr>\n",
       "    <tr>\n",
       "      <th>310446</th>\n",
       "      <td>SteCoe_1</td>\n",
       "      <td>G049</td>\n",
       "      <td>G049A</td>\n",
       "      <td>4.592032</td>\n",
       "      <td>G04</td>\n",
       "      <td>A</td>\n",
       "      <td>1.594817</td>\n",
       "      <td>6.186850</td>\n",
       "      <td>6.158427</td>\n",
       "      <td>1.502464</td>\n",
       "      <td>0.002302</td>\n",
       "      <td>1.168904</td>\n",
       "    </tr>\n",
       "  </tbody>\n",
       "</table>\n",
       "</div>"
      ],
      "text/plain": [
       "            gene Cell_ID  Sample   log1TPM treatment Polarity  \\\n",
       "172470  SteCoe_1   G0410  G0410A  4.637975       G04        A   \n",
       "206964  SteCoe_1    G046   G046A  4.534673       G04        A   \n",
       "241458  SteCoe_1    G047   G047A  4.186466       G04        A   \n",
       "275952  SteCoe_1    G048   G048A  4.347528       G04        A   \n",
       "310446  SteCoe_1    G049   G049A  4.592032       G04        A   \n",
       "\n",
       "        sample_mean_log1TPM   log1RPM  log1RPM_posterior  \\\n",
       "172470             1.564265  6.202239           5.988895   \n",
       "206964             1.575318  6.109991           5.825334   \n",
       "241458             1.576354  5.762820           5.610255   \n",
       "275952             1.566884  5.914413           6.012707   \n",
       "310446             1.594817  6.186850           6.158427   \n",
       "\n",
       "        sample_mean_log1TPM_posterior      Skew     coeff  \n",
       "172470                       1.558626  0.017500  1.168904  \n",
       "206964                       1.588103  0.023850  1.168904  \n",
       "241458                       1.588309  0.013415  1.168904  \n",
       "275952                       1.561393 -0.008241  1.168904  \n",
       "310446                       1.502464  0.002302  1.168904  "
      ]
     },
     "execution_count": 14,
     "metadata": {},
     "output_type": "execute_result"
    }
   ],
   "source": [
    "# compute coefficient of variation(std / mean) so we don't test things that are\n",
    "# so variable that they would never be stat sig differentially expressed\n",
    "# therefore reducing our FDR penalty\n",
    "\n",
    "stack = stack.reset_index()[stack.reset_index().gene.isin(wanted)]\n",
    "stack['coeff'] = stack.groupby(['gene', 'treatment']).Skew\\\n",
    "                            .transform(lambda x: np.std(x) / np.abs(np.mean(x)))\n",
    "stack.sort_values(['gene', 'Cell_ID'], inplace=True)\n",
    "stack.head()"
   ]
  },
  {
   "cell_type": "code",
   "execution_count": 15,
   "id": "bfd6a25a",
   "metadata": {},
   "outputs": [
    {
     "name": "stderr",
     "output_type": "stream",
     "text": [
      "/Users/aralbright/opt/anaconda3/envs/scoe-rna/lib/python3.6/site-packages/seaborn/distributions.py:2619: FutureWarning: `distplot` is a deprecated function and will be removed in a future version. Please adapt your code to use either `displot` (a figure-level function with similar flexibility) or `histplot` (an axes-level function for histograms).\n",
      "  warnings.warn(msg, FutureWarning)\n"
     ]
    },
    {
     "data": {
      "text/plain": [
       "Text(0.5, 0, 'log(Coefficent of Variation)')"
      ]
     },
     "execution_count": 15,
     "metadata": {},
     "output_type": "execute_result"
    },
    {
     "data": {
      "image/png": "[encoded data removed]",
      "text/plain": [
       "<Figure size 432x288 with 1 Axes>"
      ]
     },
     "metadata": {
      "needs_background": "light"
     },
     "output_type": "display_data"
    }
   ],
   "source": [
    "sns.distplot(stack.coeff.apply(np.log10))\n",
    "plt.xlabel('log(Coefficent of Variation)')"
   ]
  },
  {
   "cell_type": "code",
   "execution_count": 16,
   "id": "4d7276a9",
   "metadata": {},
   "outputs": [],
   "source": [
    "# remove genes where the coefficient of variation is >2 \n",
    "stacky = stack[stack.coeff < 2]"
   ]
  },
  {
   "cell_type": "markdown",
   "id": "356c9cfb",
   "metadata": {},
   "source": [
    "### Dynein 1 (G04) Analysis"
   ]
  },
  {
   "cell_type": "code",
   "execution_count": 17,
   "id": "8653dff4",
   "metadata": {},
   "outputs": [
    {
     "name": "stdout",
     "output_type": "stream",
     "text": [
      "Number of genes:  6069\n"
     ]
    }
   ],
   "source": [
    "df_G04 = ut.sig_test(stacky, qval_threshold = 0.1, pc_index=1)"
   ]
  },
  {
   "cell_type": "code",
   "execution_count": 18,
   "id": "a30943b2",
   "metadata": {},
   "outputs": [
    {
     "name": "stderr",
     "output_type": "stream",
     "text": [
      "/Users/aralbright/opt/anaconda3/envs/scoe-rna/lib/python3.6/site-packages/seaborn/distributions.py:2619: FutureWarning: `distplot` is a deprecated function and will be removed in a future version. Please adapt your code to use either `displot` (a figure-level function with similar flexibility) or `histplot` (an axes-level function for histograms).\n",
      "  warnings.warn(msg, FutureWarning)\n"
     ]
    },
    {
     "data": {
      "text/plain": [
       "<AxesSubplot:xlabel='q_value', ylabel='Density'>"
      ]
     },
     "execution_count": 18,
     "metadata": {},
     "output_type": "execute_result"
    },
    {
     "data": {
      "image/png": "[encoded data removed]",
      "text/plain": [
       "<Figure size 432x288 with 1 Axes>"
      ]
     },
     "metadata": {
      "needs_background": "light"
     },
     "output_type": "display_data"
    }
   ],
   "source": [
    "sns.distplot(df_G04['q_value'])"
   ]
  },
  {
   "cell_type": "code",
   "execution_count": 19,
   "id": "3679fc6e",
   "metadata": {},
   "outputs": [],
   "source": [
    "# Keep only rows where the 'gene' column value is unique\n",
    "# Keep only the first occurrence of each unique 'gene' value\n",
    "df_G04 = df_G04.drop_duplicates(subset='gene', keep='first')"
   ]
  },
  {
   "cell_type": "code",
   "execution_count": 20,
   "id": "87eb46e9",
   "metadata": {},
   "outputs": [
    {
     "data": {
      "text/html": [
       "<div>\n",
       "<style scoped>\n",
       "    .dataframe tbody tr th:only-of-type {\n",
       "        vertical-align: middle;\n",
       "    }\n",
       "\n",
       "    .dataframe tbody tr th {\n",
       "        vertical-align: top;\n",
       "    }\n",
       "\n",
       "    .dataframe thead th {\n",
       "        text-align: right;\n",
       "    }\n",
       "</style>\n",
       "<table border=\"1\" class=\"dataframe\">\n",
       "  <thead>\n",
       "    <tr style=\"text-align: right;\">\n",
       "      <th></th>\n",
       "      <th>gene</th>\n",
       "      <th>Cell_ID</th>\n",
       "      <th>Sample</th>\n",
       "      <th>log1TPM</th>\n",
       "      <th>treatment</th>\n",
       "      <th>Polarity</th>\n",
       "      <th>sample_mean_log1TPM</th>\n",
       "      <th>log1RPM</th>\n",
       "      <th>log1RPM_posterior</th>\n",
       "      <th>sample_mean_log1TPM_posterior</th>\n",
       "      <th>Skew</th>\n",
       "      <th>coeff</th>\n",
       "      <th>p_value</th>\n",
       "      <th>q_value</th>\n",
       "      <th>sig</th>\n",
       "    </tr>\n",
       "  </thead>\n",
       "  <tbody>\n",
       "    <tr>\n",
       "      <th>172586</th>\n",
       "      <td>SteCoe_10119</td>\n",
       "      <td>G0410</td>\n",
       "      <td>G0410A</td>\n",
       "      <td>5.746475</td>\n",
       "      <td>G04</td>\n",
       "      <td>A</td>\n",
       "      <td>1.564265</td>\n",
       "      <td>7.310739</td>\n",
       "      <td>7.227861</td>\n",
       "      <td>1.558626</td>\n",
       "      <td>0.005701</td>\n",
       "      <td>1.984538</td>\n",
       "      <td>0.0508555</td>\n",
       "      <td>0.0799615</td>\n",
       "      <td>True</td>\n",
       "    </tr>\n",
       "    <tr>\n",
       "      <th>172772</th>\n",
       "      <td>SteCoe_1032</td>\n",
       "      <td>G0410</td>\n",
       "      <td>G0410A</td>\n",
       "      <td>2.538897</td>\n",
       "      <td>G04</td>\n",
       "      <td>A</td>\n",
       "      <td>1.564265</td>\n",
       "      <td>4.103162</td>\n",
       "      <td>4.273431</td>\n",
       "      <td>1.558626</td>\n",
       "      <td>-0.020327</td>\n",
       "      <td>1.604087</td>\n",
       "      <td>0.0325257</td>\n",
       "      <td>0.0741601</td>\n",
       "      <td>True</td>\n",
       "    </tr>\n",
       "    <tr>\n",
       "      <th>172897</th>\n",
       "      <td>SteCoe_10449</td>\n",
       "      <td>G0410</td>\n",
       "      <td>G0410A</td>\n",
       "      <td>2.204489</td>\n",
       "      <td>G04</td>\n",
       "      <td>A</td>\n",
       "      <td>1.564265</td>\n",
       "      <td>3.768753</td>\n",
       "      <td>3.373065</td>\n",
       "      <td>1.558626</td>\n",
       "      <td>0.055404</td>\n",
       "      <td>0.646119</td>\n",
       "      <td>0.0535744</td>\n",
       "      <td>0.082707</td>\n",
       "      <td>True</td>\n",
       "    </tr>\n",
       "    <tr>\n",
       "      <th>173035</th>\n",
       "      <td>SteCoe_10580</td>\n",
       "      <td>G0410</td>\n",
       "      <td>G0410A</td>\n",
       "      <td>0.640843</td>\n",
       "      <td>G04</td>\n",
       "      <td>A</td>\n",
       "      <td>1.564265</td>\n",
       "      <td>2.205108</td>\n",
       "      <td>2.137723</td>\n",
       "      <td>1.558626</td>\n",
       "      <td>0.015516</td>\n",
       "      <td>1.304302</td>\n",
       "      <td>0.0383309</td>\n",
       "      <td>0.0756993</td>\n",
       "      <td>True</td>\n",
       "    </tr>\n",
       "    <tr>\n",
       "      <th>173039</th>\n",
       "      <td>SteCoe_10584</td>\n",
       "      <td>G0410</td>\n",
       "      <td>G0410A</td>\n",
       "      <td>0.950098</td>\n",
       "      <td>G04</td>\n",
       "      <td>A</td>\n",
       "      <td>1.564265</td>\n",
       "      <td>2.514363</td>\n",
       "      <td>2.513345</td>\n",
       "      <td>1.558626</td>\n",
       "      <td>0.000202</td>\n",
       "      <td>1.185871</td>\n",
       "      <td>0.00837086</td>\n",
       "      <td>0.0741601</td>\n",
       "      <td>True</td>\n",
       "    </tr>\n",
       "    <tr>\n",
       "      <th>...</th>\n",
       "      <td>...</td>\n",
       "      <td>...</td>\n",
       "      <td>...</td>\n",
       "      <td>...</td>\n",
       "      <td>...</td>\n",
       "      <td>...</td>\n",
       "      <td>...</td>\n",
       "      <td>...</td>\n",
       "      <td>...</td>\n",
       "      <td>...</td>\n",
       "      <td>...</td>\n",
       "      <td>...</td>\n",
       "      <td>...</td>\n",
       "      <td>...</td>\n",
       "      <td>...</td>\n",
       "    </tr>\n",
       "    <tr>\n",
       "      <th>206539</th>\n",
       "      <td>SteCoe_9578</td>\n",
       "      <td>G0410</td>\n",
       "      <td>G0410A</td>\n",
       "      <td>1.056834</td>\n",
       "      <td>G04</td>\n",
       "      <td>A</td>\n",
       "      <td>1.564265</td>\n",
       "      <td>2.621099</td>\n",
       "      <td>2.474701</td>\n",
       "      <td>1.558626</td>\n",
       "      <td>0.028729</td>\n",
       "      <td>0.900930</td>\n",
       "      <td>0.00402455</td>\n",
       "      <td>0.0741601</td>\n",
       "      <td>True</td>\n",
       "    </tr>\n",
       "    <tr>\n",
       "      <th>206669</th>\n",
       "      <td>SteCoe_9703</td>\n",
       "      <td>G0410</td>\n",
       "      <td>G0410A</td>\n",
       "      <td>0.514212</td>\n",
       "      <td>G04</td>\n",
       "      <td>A</td>\n",
       "      <td>1.564265</td>\n",
       "      <td>2.078477</td>\n",
       "      <td>1.965910</td>\n",
       "      <td>1.558626</td>\n",
       "      <td>0.027833</td>\n",
       "      <td>0.465078</td>\n",
       "      <td>0.0341709</td>\n",
       "      <td>0.0741601</td>\n",
       "      <td>True</td>\n",
       "    </tr>\n",
       "    <tr>\n",
       "      <th>206686</th>\n",
       "      <td>SteCoe_9721</td>\n",
       "      <td>G0410</td>\n",
       "      <td>G0410A</td>\n",
       "      <td>1.655474</td>\n",
       "      <td>G04</td>\n",
       "      <td>A</td>\n",
       "      <td>1.564265</td>\n",
       "      <td>3.219739</td>\n",
       "      <td>3.038240</td>\n",
       "      <td>1.558626</td>\n",
       "      <td>0.029003</td>\n",
       "      <td>1.394176</td>\n",
       "      <td>0.0219986</td>\n",
       "      <td>0.0741601</td>\n",
       "      <td>True</td>\n",
       "    </tr>\n",
       "    <tr>\n",
       "      <th>206842</th>\n",
       "      <td>SteCoe_9875</td>\n",
       "      <td>G0410</td>\n",
       "      <td>G0410A</td>\n",
       "      <td>1.444676</td>\n",
       "      <td>G04</td>\n",
       "      <td>A</td>\n",
       "      <td>1.564265</td>\n",
       "      <td>3.008941</td>\n",
       "      <td>2.631073</td>\n",
       "      <td>1.558626</td>\n",
       "      <td>0.066998</td>\n",
       "      <td>1.562756</td>\n",
       "      <td>0.0634761</td>\n",
       "      <td>0.0909399</td>\n",
       "      <td>True</td>\n",
       "    </tr>\n",
       "    <tr>\n",
       "      <th>206844</th>\n",
       "      <td>SteCoe_9877</td>\n",
       "      <td>G0410</td>\n",
       "      <td>G0410A</td>\n",
       "      <td>3.659100</td>\n",
       "      <td>G04</td>\n",
       "      <td>A</td>\n",
       "      <td>1.564265</td>\n",
       "      <td>5.223365</td>\n",
       "      <td>5.295206</td>\n",
       "      <td>1.558626</td>\n",
       "      <td>-0.006830</td>\n",
       "      <td>1.973635</td>\n",
       "      <td>0.018239</td>\n",
       "      <td>0.0741601</td>\n",
       "      <td>True</td>\n",
       "    </tr>\n",
       "  </tbody>\n",
       "</table>\n",
       "<p>403 rows × 15 columns</p>\n",
       "</div>"
      ],
      "text/plain": [
       "                gene Cell_ID  Sample   log1TPM treatment Polarity  \\\n",
       "172586  SteCoe_10119   G0410  G0410A  5.746475       G04        A   \n",
       "172772   SteCoe_1032   G0410  G0410A  2.538897       G04        A   \n",
       "172897  SteCoe_10449   G0410  G0410A  2.204489       G04        A   \n",
       "173035  SteCoe_10580   G0410  G0410A  0.640843       G04        A   \n",
       "173039  SteCoe_10584   G0410  G0410A  0.950098       G04        A   \n",
       "...              ...     ...     ...       ...       ...      ...   \n",
       "206539   SteCoe_9578   G0410  G0410A  1.056834       G04        A   \n",
       "206669   SteCoe_9703   G0410  G0410A  0.514212       G04        A   \n",
       "206686   SteCoe_9721   G0410  G0410A  1.655474       G04        A   \n",
       "206842   SteCoe_9875   G0410  G0410A  1.444676       G04        A   \n",
       "206844   SteCoe_9877   G0410  G0410A  3.659100       G04        A   \n",
       "\n",
       "        sample_mean_log1TPM   log1RPM  log1RPM_posterior  \\\n",
       "172586             1.564265  7.310739           7.227861   \n",
       "172772             1.564265  4.103162           4.273431   \n",
       "172897             1.564265  3.768753           3.373065   \n",
       "173035             1.564265  2.205108           2.137723   \n",
       "173039             1.564265  2.514363           2.513345   \n",
       "...                     ...       ...                ...   \n",
       "206539             1.564265  2.621099           2.474701   \n",
       "206669             1.564265  2.078477           1.965910   \n",
       "206686             1.564265  3.219739           3.038240   \n",
       "206842             1.564265  3.008941           2.631073   \n",
       "206844             1.564265  5.223365           5.295206   \n",
       "\n",
       "        sample_mean_log1TPM_posterior      Skew     coeff     p_value  \\\n",
       "172586                       1.558626  0.005701  1.984538   0.0508555   \n",
       "172772                       1.558626 -0.020327  1.604087   0.0325257   \n",
       "172897                       1.558626  0.055404  0.646119   0.0535744   \n",
       "173035                       1.558626  0.015516  1.304302   0.0383309   \n",
       "173039                       1.558626  0.000202  1.185871  0.00837086   \n",
       "...                               ...       ...       ...         ...   \n",
       "206539                       1.558626  0.028729  0.900930  0.00402455   \n",
       "206669                       1.558626  0.027833  0.465078   0.0341709   \n",
       "206686                       1.558626  0.029003  1.394176   0.0219986   \n",
       "206842                       1.558626  0.066998  1.562756   0.0634761   \n",
       "206844                       1.558626 -0.006830  1.973635    0.018239   \n",
       "\n",
       "          q_value   sig  \n",
       "172586  0.0799615  True  \n",
       "172772  0.0741601  True  \n",
       "172897   0.082707  True  \n",
       "173035  0.0756993  True  \n",
       "173039  0.0741601  True  \n",
       "...           ...   ...  \n",
       "206539  0.0741601  True  \n",
       "206669  0.0741601  True  \n",
       "206686  0.0741601  True  \n",
       "206842  0.0909399  True  \n",
       "206844  0.0741601  True  \n",
       "\n",
       "[403 rows x 15 columns]"
      ]
     },
     "execution_count": 20,
     "metadata": {},
     "output_type": "execute_result"
    }
   ],
   "source": [
    "df_G04[df_G04.sig]"
   ]
  },
  {
   "cell_type": "markdown",
   "id": "0b993179",
   "metadata": {},
   "source": [
    "Add protein domain info: "
   ]
  },
  {
   "cell_type": "code",
   "execution_count": 21,
   "id": "570e961d",
   "metadata": {},
   "outputs": [],
   "source": [
    "# load protein domain information \n",
    "\n",
    "x = []\n",
    "y = []\n",
    "with open('/Users/aralbright/Documents/GitHub/2022_skew_analysis/S_coeruleus_Nov2017_proteins.fasta') as f:\n",
    "    lines = f.readlines()\n",
    "    for l in lines:\n",
    "        if '>' in l:\n",
    "            line = l.split('\\t')\n",
    "            gene = line[0][1:]\n",
    "            domain = line[1].strip()\n",
    "            x += [gene]\n",
    "            y += [domain]\n",
    "\n",
    "prot_data = pd.DataFrame([x, y], index=['gene', 'domain']).T.set_index('gene')"
   ]
  },
  {
   "cell_type": "code",
   "execution_count": 22,
   "id": "34045be7",
   "metadata": {},
   "outputs": [],
   "source": [
    "df_G04 = df_G04.join(prot_data, on = 'gene')"
   ]
  },
  {
   "cell_type": "code",
   "execution_count": 23,
   "id": "62cbbdf1",
   "metadata": {},
   "outputs": [],
   "source": [
    "df_G04.to_csv('df_G04_allskew.csv', index=False)"
   ]
  },
  {
   "cell_type": "code",
   "execution_count": 24,
   "id": "56ca1bde",
   "metadata": {},
   "outputs": [],
   "source": [
    "df_G04_sig = df_G04[df_G04.sig]"
   ]
  },
  {
   "cell_type": "code",
   "execution_count": 25,
   "id": "bdf40049",
   "metadata": {},
   "outputs": [],
   "source": [
    "#df_G04_sig.to_csv('df_G04_sig.csv', index = False)"
   ]
  },
  {
   "cell_type": "markdown",
   "id": "5dde0e6f",
   "metadata": {},
   "source": [
    "# G05"
   ]
  },
  {
   "cell_type": "code",
   "execution_count": 26,
   "id": "291076a6",
   "metadata": {},
   "outputs": [
    {
     "name": "stdout",
     "output_type": "stream",
     "text": [
      "Number of genes:  10716\n"
     ]
    }
   ],
   "source": [
    "df_G05 = ut.sig_test(stacky, qval_threshold = 0.2, condition='G05', pc_index = 1)"
   ]
  },
  {
   "cell_type": "code",
   "execution_count": 27,
   "id": "3eaf6b1d",
   "metadata": {},
   "outputs": [],
   "source": [
    "# Keep only rows where the 'gene' column value is unique\n",
    "# Keep only the first occurrence of each unique 'gene' value\n",
    "df_G05 = df_G05.drop_duplicates(subset='gene', keep='first')"
   ]
  },
  {
   "cell_type": "code",
   "execution_count": 28,
   "id": "a077ba36",
   "metadata": {},
   "outputs": [
    {
     "name": "stderr",
     "output_type": "stream",
     "text": [
      "/Users/aralbright/opt/anaconda3/envs/scoe-rna/lib/python3.6/site-packages/seaborn/distributions.py:2619: FutureWarning: `distplot` is a deprecated function and will be removed in a future version. Please adapt your code to use either `displot` (a figure-level function with similar flexibility) or `histplot` (an axes-level function for histograms).\n",
      "  warnings.warn(msg, FutureWarning)\n"
     ]
    },
    {
     "data": {
      "text/plain": [
       "<AxesSubplot:xlabel='q_value', ylabel='Density'>"
      ]
     },
     "execution_count": 28,
     "metadata": {},
     "output_type": "execute_result"
    },
    {
     "data": {
      "image/png": "[encoded data removed]",
      "text/plain": [
       "<Figure size 432x288 with 1 Axes>"
      ]
     },
     "metadata": {
      "needs_background": "light"
     },
     "output_type": "display_data"
    }
   ],
   "source": [
    "sns.distplot(df_G05['q_value'])"
   ]
  },
  {
   "cell_type": "code",
   "execution_count": 29,
   "id": "fabf50ee",
   "metadata": {},
   "outputs": [
    {
     "data": {
      "text/html": [
       "<div>\n",
       "<style scoped>\n",
       "    .dataframe tbody tr th:only-of-type {\n",
       "        vertical-align: middle;\n",
       "    }\n",
       "\n",
       "    .dataframe tbody tr th {\n",
       "        vertical-align: top;\n",
       "    }\n",
       "\n",
       "    .dataframe thead th {\n",
       "        text-align: right;\n",
       "    }\n",
       "</style>\n",
       "<table border=\"1\" class=\"dataframe\">\n",
       "  <thead>\n",
       "    <tr style=\"text-align: right;\">\n",
       "      <th></th>\n",
       "      <th>gene</th>\n",
       "      <th>Cell_ID</th>\n",
       "      <th>Sample</th>\n",
       "      <th>log1TPM</th>\n",
       "      <th>treatment</th>\n",
       "      <th>Polarity</th>\n",
       "      <th>sample_mean_log1TPM</th>\n",
       "      <th>log1RPM</th>\n",
       "      <th>log1RPM_posterior</th>\n",
       "      <th>sample_mean_log1TPM_posterior</th>\n",
       "      <th>Skew</th>\n",
       "      <th>coeff</th>\n",
       "      <th>p_value</th>\n",
       "      <th>q_value</th>\n",
       "      <th>sig</th>\n",
       "    </tr>\n",
       "  </thead>\n",
       "  <tbody>\n",
       "  </tbody>\n",
       "</table>\n",
       "</div>"
      ],
      "text/plain": [
       "Empty DataFrame\n",
       "Columns: [gene, Cell_ID, Sample, log1TPM, treatment, Polarity, sample_mean_log1TPM, log1RPM, log1RPM_posterior, sample_mean_log1TPM_posterior, Skew, coeff, p_value, q_value, sig]\n",
       "Index: []"
      ]
     },
     "execution_count": 29,
     "metadata": {},
     "output_type": "execute_result"
    }
   ],
   "source": [
    "df_G05[df_G05.sig]"
   ]
  },
  {
   "cell_type": "markdown",
   "id": "9e68705b",
   "metadata": {},
   "source": [
    "## Heatmap"
   ]
  },
  {
   "cell_type": "code",
   "execution_count": 30,
   "id": "15461274",
   "metadata": {},
   "outputs": [],
   "source": [
    "hm_df = stack.pivot(index='gene', columns='Cell_ID', values='Skew')"
   ]
  },
  {
   "cell_type": "code",
   "execution_count": 31,
   "id": "83d85e10",
   "metadata": {},
   "outputs": [],
   "source": [
    "dyn_cm_order = pd.read_csv('/Volumes/albright_postdoc/2022_AADAWM_v3/1_bulk_ap/dyn_cm_order.csv')"
   ]
  },
  {
   "cell_type": "code",
   "execution_count": 32,
   "id": "5d5cae6c",
   "metadata": {},
   "outputs": [],
   "source": [
    "hm_df_filtered = hm_df[hm_df.index.isin(dyn_cm_order['gene'])]\n",
    "hm_df_ordered = hm_df_filtered.reindex(dyn_cm_order['gene'])"
   ]
  },
  {
   "cell_type": "code",
   "execution_count": 33,
   "id": "e86f3005",
   "metadata": {},
   "outputs": [],
   "source": [
    "hm_df_ordered_nog05= hm_df_ordered.loc[:, ~hm_df_ordered.columns.str.startswith('G05')]"
   ]
  },
  {
   "cell_type": "code",
   "execution_count": 34,
   "id": "7985e793",
   "metadata": {},
   "outputs": [
    {
     "data": {
      "text/html": [
       "<div>\n",
       "<style scoped>\n",
       "    .dataframe tbody tr th:only-of-type {\n",
       "        vertical-align: middle;\n",
       "    }\n",
       "\n",
       "    .dataframe tbody tr th {\n",
       "        vertical-align: top;\n",
       "    }\n",
       "\n",
       "    .dataframe thead th {\n",
       "        text-align: right;\n",
       "    }\n",
       "</style>\n",
       "<table border=\"1\" class=\"dataframe\">\n",
       "  <thead>\n",
       "    <tr style=\"text-align: right;\">\n",
       "      <th>Cell_ID</th>\n",
       "      <th>G0410</th>\n",
       "      <th>G046</th>\n",
       "      <th>G047</th>\n",
       "      <th>G048</th>\n",
       "      <th>G049</th>\n",
       "      <th>con1</th>\n",
       "      <th>con2</th>\n",
       "      <th>con3</th>\n",
       "      <th>con4</th>\n",
       "      <th>con5</th>\n",
       "    </tr>\n",
       "    <tr>\n",
       "      <th>gene</th>\n",
       "      <th></th>\n",
       "      <th></th>\n",
       "      <th></th>\n",
       "      <th></th>\n",
       "      <th></th>\n",
       "      <th></th>\n",
       "      <th></th>\n",
       "      <th></th>\n",
       "      <th></th>\n",
       "      <th></th>\n",
       "    </tr>\n",
       "  </thead>\n",
       "  <tbody>\n",
       "    <tr>\n",
       "      <th>SteCoe_37629</th>\n",
       "      <td>0.003584</td>\n",
       "      <td>0.014093</td>\n",
       "      <td>0.019875</td>\n",
       "      <td>0.012034</td>\n",
       "      <td>-0.005745</td>\n",
       "      <td>0.027644</td>\n",
       "      <td>-0.060157</td>\n",
       "      <td>-0.018889</td>\n",
       "      <td>-0.051570</td>\n",
       "      <td>-0.053589</td>\n",
       "    </tr>\n",
       "    <tr>\n",
       "      <th>SteCoe_37670</th>\n",
       "      <td>0.010190</td>\n",
       "      <td>0.027776</td>\n",
       "      <td>-0.000178</td>\n",
       "      <td>0.007045</td>\n",
       "      <td>0.012949</td>\n",
       "      <td>0.016067</td>\n",
       "      <td>0.054144</td>\n",
       "      <td>0.034752</td>\n",
       "      <td>0.037315</td>\n",
       "      <td>0.043692</td>\n",
       "    </tr>\n",
       "    <tr>\n",
       "      <th>SteCoe_14797</th>\n",
       "      <td>0.021630</td>\n",
       "      <td>0.009647</td>\n",
       "      <td>-0.002354</td>\n",
       "      <td>0.002738</td>\n",
       "      <td>0.007810</td>\n",
       "      <td>0.007264</td>\n",
       "      <td>0.065975</td>\n",
       "      <td>0.033216</td>\n",
       "      <td>0.025652</td>\n",
       "      <td>0.049974</td>\n",
       "    </tr>\n",
       "    <tr>\n",
       "      <th>SteCoe_26400</th>\n",
       "      <td>0.017483</td>\n",
       "      <td>0.032334</td>\n",
       "      <td>0.009502</td>\n",
       "      <td>-0.003061</td>\n",
       "      <td>-0.012928</td>\n",
       "      <td>0.001369</td>\n",
       "      <td>0.089483</td>\n",
       "      <td>0.038178</td>\n",
       "      <td>0.039121</td>\n",
       "      <td>0.058019</td>\n",
       "    </tr>\n",
       "    <tr>\n",
       "      <th>SteCoe_4300</th>\n",
       "      <td>0.015812</td>\n",
       "      <td>0.055885</td>\n",
       "      <td>0.001369</td>\n",
       "      <td>0.012965</td>\n",
       "      <td>0.046087</td>\n",
       "      <td>0.018431</td>\n",
       "      <td>0.081535</td>\n",
       "      <td>0.082076</td>\n",
       "      <td>0.081179</td>\n",
       "      <td>0.114106</td>\n",
       "    </tr>\n",
       "    <tr>\n",
       "      <th>...</th>\n",
       "      <td>...</td>\n",
       "      <td>...</td>\n",
       "      <td>...</td>\n",
       "      <td>...</td>\n",
       "      <td>...</td>\n",
       "      <td>...</td>\n",
       "      <td>...</td>\n",
       "      <td>...</td>\n",
       "      <td>...</td>\n",
       "      <td>...</td>\n",
       "    </tr>\n",
       "    <tr>\n",
       "      <th>SteCoe_26266</th>\n",
       "      <td>0.006562</td>\n",
       "      <td>0.030561</td>\n",
       "      <td>0.009084</td>\n",
       "      <td>-0.024563</td>\n",
       "      <td>0.210684</td>\n",
       "      <td>-0.018877</td>\n",
       "      <td>-0.126951</td>\n",
       "      <td>-0.032918</td>\n",
       "      <td>-0.044274</td>\n",
       "      <td>-0.153223</td>\n",
       "    </tr>\n",
       "    <tr>\n",
       "      <th>SteCoe_4980</th>\n",
       "      <td>-0.022432</td>\n",
       "      <td>0.039470</td>\n",
       "      <td>0.051388</td>\n",
       "      <td>0.026218</td>\n",
       "      <td>0.110713</td>\n",
       "      <td>0.003989</td>\n",
       "      <td>-0.059393</td>\n",
       "      <td>-0.066652</td>\n",
       "      <td>-0.036646</td>\n",
       "      <td>-0.052556</td>\n",
       "    </tr>\n",
       "    <tr>\n",
       "      <th>SteCoe_9875</th>\n",
       "      <td>0.066998</td>\n",
       "      <td>-0.014152</td>\n",
       "      <td>-0.016272</td>\n",
       "      <td>0.015829</td>\n",
       "      <td>0.168440</td>\n",
       "      <td>0.023371</td>\n",
       "      <td>-0.061438</td>\n",
       "      <td>-0.085914</td>\n",
       "      <td>-0.014881</td>\n",
       "      <td>-0.095031</td>\n",
       "    </tr>\n",
       "    <tr>\n",
       "      <th>SteCoe_25607</th>\n",
       "      <td>0.027990</td>\n",
       "      <td>-0.014343</td>\n",
       "      <td>0.023950</td>\n",
       "      <td>-0.000696</td>\n",
       "      <td>0.035009</td>\n",
       "      <td>0.001244</td>\n",
       "      <td>-0.072120</td>\n",
       "      <td>-0.000594</td>\n",
       "      <td>-0.022706</td>\n",
       "      <td>-0.075339</td>\n",
       "    </tr>\n",
       "    <tr>\n",
       "      <th>SteCoe_33376</th>\n",
       "      <td>0.034296</td>\n",
       "      <td>-0.008229</td>\n",
       "      <td>0.047910</td>\n",
       "      <td>0.023953</td>\n",
       "      <td>0.168489</td>\n",
       "      <td>0.018890</td>\n",
       "      <td>-0.034577</td>\n",
       "      <td>0.031366</td>\n",
       "      <td>-0.072920</td>\n",
       "      <td>-0.161075</td>\n",
       "    </tr>\n",
       "  </tbody>\n",
       "</table>\n",
       "<p>115 rows × 10 columns</p>\n",
       "</div>"
      ],
      "text/plain": [
       "Cell_ID          G0410      G046      G047      G048      G049      con1  \\\n",
       "gene                                                                       \n",
       "SteCoe_37629  0.003584  0.014093  0.019875  0.012034 -0.005745  0.027644   \n",
       "SteCoe_37670  0.010190  0.027776 -0.000178  0.007045  0.012949  0.016067   \n",
       "SteCoe_14797  0.021630  0.009647 -0.002354  0.002738  0.007810  0.007264   \n",
       "SteCoe_26400  0.017483  0.032334  0.009502 -0.003061 -0.012928  0.001369   \n",
       "SteCoe_4300   0.015812  0.055885  0.001369  0.012965  0.046087  0.018431   \n",
       "...                ...       ...       ...       ...       ...       ...   \n",
       "SteCoe_26266  0.006562  0.030561  0.009084 -0.024563  0.210684 -0.018877   \n",
       "SteCoe_4980  -0.022432  0.039470  0.051388  0.026218  0.110713  0.003989   \n",
       "SteCoe_9875   0.066998 -0.014152 -0.016272  0.015829  0.168440  0.023371   \n",
       "SteCoe_25607  0.027990 -0.014343  0.023950 -0.000696  0.035009  0.001244   \n",
       "SteCoe_33376  0.034296 -0.008229  0.047910  0.023953  0.168489  0.018890   \n",
       "\n",
       "Cell_ID           con2      con3      con4      con5  \n",
       "gene                                                  \n",
       "SteCoe_37629 -0.060157 -0.018889 -0.051570 -0.053589  \n",
       "SteCoe_37670  0.054144  0.034752  0.037315  0.043692  \n",
       "SteCoe_14797  0.065975  0.033216  0.025652  0.049974  \n",
       "SteCoe_26400  0.089483  0.038178  0.039121  0.058019  \n",
       "SteCoe_4300   0.081535  0.082076  0.081179  0.114106  \n",
       "...                ...       ...       ...       ...  \n",
       "SteCoe_26266 -0.126951 -0.032918 -0.044274 -0.153223  \n",
       "SteCoe_4980  -0.059393 -0.066652 -0.036646 -0.052556  \n",
       "SteCoe_9875  -0.061438 -0.085914 -0.014881 -0.095031  \n",
       "SteCoe_25607 -0.072120 -0.000594 -0.022706 -0.075339  \n",
       "SteCoe_33376 -0.034577  0.031366 -0.072920 -0.161075  \n",
       "\n",
       "[115 rows x 10 columns]"
      ]
     },
     "execution_count": 34,
     "metadata": {},
     "output_type": "execute_result"
    }
   ],
   "source": [
    "hm_df_ordered_nog05"
   ]
  },
  {
   "cell_type": "code",
   "execution_count": 35,
   "id": "a12df97f",
   "metadata": {},
   "outputs": [
    {
     "data": {
      "image/png": "[encoded data removed]",
      "text/plain": [
       "<Figure size 720x720 with 4 Axes>"
      ]
     },
     "metadata": {
      "needs_background": "light"
     },
     "output_type": "display_data"
    }
   ],
   "source": [
    "palette = sns.diverging_palette(240, 24, s = 100, l = 50, as_cmap=True)\n",
    "\n",
    "p = sns.clustermap(hm_df_ordered_nog05, \n",
    "                   z_score=0, \n",
    "                   cmap = palette, \n",
    "                   row_cluster = False,\n",
    "                   dendrogram_ratio=(0.1, 0.2),\n",
    "                  )\n",
    "\n",
    "# just to make the order matchy with other hms \n",
    "p.ax_heatmap.invert_xaxis()\n",
    "p.ax_col_dendrogram.invert_xaxis()\n",
    "\n",
    "# get reordered labels from the dendrogram\n",
    "reordered_labels = hm_df_ordered_nog05.index.tolist() \n",
    "\n",
    "# genes to label \n",
    "use_labels = ['SteCoe_22192', 'SteCoe_14533']\n",
    "use_ticks = [reordered_labels.index(label) + 0.5 for label in use_labels]\n",
    "\n",
    "# set labels\n",
    "p.ax_heatmap.set(yticks=use_ticks, yticklabels=use_labels)\n",
    "\n",
    "# color bar position and such \n",
    "cbar = p.ax_cbar\n",
    "cbar_pos = cbar.get_position()\n",
    "cbar.set_ylabel('Z-Score') # Set the label for the colorbar\n",
    "cbar.yaxis.set_label_coords(-0.7, 0.5) \n",
    "cbar.set_position([cbar_pos.x0, cbar_pos.y0, 0.03, cbar_pos.height])\n",
    "\n",
    "\n",
    "#plt.savefig('dyn_ap_overlap_ordered.png', bbox_inches='tight', dpi=300)"
   ]
  },
  {
   "cell_type": "markdown",
   "id": "96452787",
   "metadata": {},
   "source": [
    "## Single gene plots"
   ]
  },
  {
   "cell_type": "code",
   "execution_count": 36,
   "id": "31a5a02f",
   "metadata": {},
   "outputs": [
    {
     "data": {
      "text/plain": [
       "<AxesSubplot:title={'center':'SteCoe_22192'}, xlabel='treatment', ylabel='Skew'>"
      ]
     },
     "execution_count": 36,
     "metadata": {},
     "output_type": "execute_result"
    },
    {
     "data": {
      "image/png": "[encoded data removed]",
      "text/plain": [
       "<Figure size 432x288 with 1 Axes>"
      ]
     },
     "metadata": {
      "needs_background": "light"
     },
     "output_type": "display_data"
    }
   ],
   "source": [
    "hit = \"SteCoe_22192\"\n",
    "\n",
    "x_order = ['con', 'G04', 'G05']\n",
    "\n",
    "sns.boxplot(data = stack[stack.gene == hit], x = 'treatment', y = 'Skew', color = ('#A9A5BA'), order = x_order).set(title = hit)\n",
    "sns.stripplot(data = stack[stack.gene == hit], x = 'treatment', y = 'Skew', color = \"black\", size = 8, order = x_order)\n",
    "\n",
    "\n",
    "#plt.ylim(-0.12, 0.05)\n",
    "\n",
    "#plt.savefig('dyn_SteCoe_22192.png', bbox_inches='tight', dpi = 300)\n"
   ]
  },
  {
   "cell_type": "code",
   "execution_count": 37,
   "id": "170db94a",
   "metadata": {},
   "outputs": [
    {
     "data": {
      "text/plain": [
       "<AxesSubplot:title={'center':'SteCoe_14533'}, xlabel='treatment', ylabel='Skew'>"
      ]
     },
     "execution_count": 37,
     "metadata": {},
     "output_type": "execute_result"
    },
    {
     "data": {
      "image/png": "[encoded data removed]",
      "text/plain": [
       "<Figure size 432x288 with 1 Axes>"
      ]
     },
     "metadata": {
      "needs_background": "light"
     },
     "output_type": "display_data"
    }
   ],
   "source": [
    "hit = \"SteCoe_14533\"\n",
    "\n",
    "x_order = ['con', 'G04', 'G05']\n",
    "\n",
    "sns.boxplot(data = stack[stack.gene == hit], x = 'treatment', y = 'Skew', color = ('#A9A5BA'), order = x_order).set(title = hit)\n",
    "sns.stripplot(data = stack[stack.gene == hit], x = 'treatment', y = 'Skew', color = \"black\", size = 8, order = x_order)\n",
    "\n",
    "\n",
    "#plt.savefig('dyn_SteCoe_14533.png', bbox_inches='tight', dpi = 300)\n"
   ]
  }
 ],
 "metadata": {
  "kernelspec": {
   "display_name": "Python 3",
   "language": "python",
   "name": "python3"
  },
  "language_info": {
   "codemirror_mode": {
    "name": "ipython",
    "version": 3
   },
   "file_extension": ".py",
   "mimetype": "text/x-python",
   "name": "python",
   "nbconvert_exporter": "python",
   "pygments_lexer": "ipython3",
   "version": "3.6.15"
  }
 },
 "nbformat": 4,
 "nbformat_minor": 5
}
